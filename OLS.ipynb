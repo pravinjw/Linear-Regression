{
 "cells": [
  {
   "cell_type": "markdown",
   "id": "96debc3b",
   "metadata": {},
   "source": [
    "## <font color = blue><left> Ordinary Least Square Linear Regression with Function"
   ]
  },
  {
   "cell_type": "markdown",
   "id": "52f0db2c",
   "metadata": {},
   "source": [
    "### Importing Libraries Required"
   ]
  },
  {
   "cell_type": "code",
   "execution_count": 5,
   "id": "832f8649",
   "metadata": {},
   "outputs": [],
   "source": [
    "import numpy as np\n",
    "import pandas as pd\n",
    "import matplotlib.pyplot as plt"
   ]
  },
  {
   "cell_type": "markdown",
   "id": "38745a22",
   "metadata": {},
   "source": [
    "### Import dataset"
   ]
  },
  {
   "cell_type": "code",
   "execution_count": 6,
   "id": "eff680a9",
   "metadata": {
    "scrolled": true
   },
   "outputs": [
    {
     "data": {
      "text/html": [
       "<div>\n",
       "<style scoped>\n",
       "    .dataframe tbody tr th:only-of-type {\n",
       "        vertical-align: middle;\n",
       "    }\n",
       "\n",
       "    .dataframe tbody tr th {\n",
       "        vertical-align: top;\n",
       "    }\n",
       "\n",
       "    .dataframe thead th {\n",
       "        text-align: right;\n",
       "    }\n",
       "</style>\n",
       "<table border=\"1\" class=\"dataframe\">\n",
       "  <thead>\n",
       "    <tr style=\"text-align: right;\">\n",
       "      <th></th>\n",
       "      <th>Head Size</th>\n",
       "      <th>Brain Weight</th>\n",
       "    </tr>\n",
       "  </thead>\n",
       "  <tbody>\n",
       "    <tr>\n",
       "      <th>180</th>\n",
       "      <td>3689</td>\n",
       "      <td>1290</td>\n",
       "    </tr>\n",
       "    <tr>\n",
       "      <th>222</th>\n",
       "      <td>3740</td>\n",
       "      <td>1280</td>\n",
       "    </tr>\n",
       "    <tr>\n",
       "      <th>103</th>\n",
       "      <td>3661</td>\n",
       "      <td>1320</td>\n",
       "    </tr>\n",
       "    <tr>\n",
       "      <th>135</th>\n",
       "      <td>3436</td>\n",
       "      <td>1235</td>\n",
       "    </tr>\n",
       "    <tr>\n",
       "      <th>108</th>\n",
       "      <td>3916</td>\n",
       "      <td>1360</td>\n",
       "    </tr>\n",
       "  </tbody>\n",
       "</table>\n",
       "</div>"
      ],
      "text/plain": [
       "     Head Size  Brain Weight\n",
       "180       3689          1290\n",
       "222       3740          1280\n",
       "103       3661          1320\n",
       "135       3436          1235\n",
       "108       3916          1360"
      ]
     },
     "execution_count": 6,
     "metadata": {},
     "output_type": "execute_result"
    }
   ],
   "source": [
    "df = pd.read_csv('headbrain.csv')\n",
    "df.sample(5)"
   ]
  },
  {
   "cell_type": "code",
   "execution_count": 7,
   "id": "9cd7ea70",
   "metadata": {},
   "outputs": [
    {
     "data": {
      "text/plain": [
       "(array([4512, 3738, 4261, 3777, 4177, 3585, 3785, 3559, 3613, 3982, 3443,\n",
       "        3993, 3640, 4208, 3832, 3876, 3497, 3466, 3095, 4424, 3878, 4046,\n",
       "        3804, 3710, 4747, 4423, 4036, 4022, 3454, 4175, 3787, 3796, 4103,\n",
       "        4161, 4158, 3814, 3527, 3748, 3334, 3492, 3962, 3505, 4315, 3804,\n",
       "        3863, 4034, 4308, 3165, 3641, 3644, 3891, 3793, 4270, 4063, 4012,\n",
       "        3458, 3890, 4166, 3935, 3669, 3866, 3393, 4442, 4253, 3727, 3329,\n",
       "        3415, 3372, 4430, 4381, 4008, 3858, 4121, 4057, 3824, 3394, 3558,\n",
       "        3362, 3930, 3835, 3830, 3856, 3249, 3577, 3933, 3850, 3309, 3406,\n",
       "        3506, 3907, 4160, 3318, 3662, 3899, 3700, 3779, 3473, 3490, 3654,\n",
       "        3478, 3495, 3834, 3876, 3661, 3618, 3648, 4032, 3399, 3916, 4430,\n",
       "        3695, 3524, 3571, 3594, 3383, 3499, 3589, 3900, 4114, 3937, 3399,\n",
       "        4200, 4488, 3614, 4051, 3782, 3391, 3124, 4053, 3582, 3666, 3532,\n",
       "        4046, 3667, 2857, 3436, 3791, 3302, 3104, 3171, 3572, 3530, 3175,\n",
       "        3438, 3903, 3899, 3401, 3267, 3451, 3090, 3413, 3323, 3680, 3439,\n",
       "        3853, 3156, 3279, 3707, 4006, 3269, 3071, 3779, 3548, 3292, 3497,\n",
       "        3082, 3248, 3358, 3803, 3566, 3145, 3503, 3571, 3724, 3615, 3203,\n",
       "        3609, 3561, 3979, 3533, 3689, 3158, 4005, 3181, 3479, 3642, 3632,\n",
       "        3069, 3394, 3703, 3165, 3354, 3000, 3687, 3556, 2773, 3058, 3344,\n",
       "        3493, 3297, 3360, 3228, 3277, 3851, 3067, 3692, 3402, 3995, 3318,\n",
       "        2720, 2937, 3580, 2939, 2989, 3586, 3156, 3246, 3170, 3268, 3389,\n",
       "        3381, 2864, 3740, 3479, 3647, 3716, 3284, 4204, 3735, 3218, 3685,\n",
       "        3704, 3214, 3394, 3233, 3352, 3391], dtype=int64),\n",
       " array([1530, 1297, 1335, 1282, 1590, 1300, 1400, 1255, 1355, 1375, 1340,\n",
       "        1380, 1355, 1522, 1208, 1405, 1358, 1292, 1340, 1400, 1357, 1287,\n",
       "        1275, 1270, 1635, 1505, 1490, 1485, 1310, 1420, 1318, 1432, 1364,\n",
       "        1405, 1432, 1207, 1375, 1350, 1236, 1250, 1350, 1320, 1525, 1570,\n",
       "        1340, 1422, 1506, 1215, 1311, 1300, 1224, 1350, 1335, 1390, 1400,\n",
       "        1225, 1310, 1560, 1330, 1222, 1415, 1175, 1330, 1485, 1470, 1135,\n",
       "        1310, 1154, 1510, 1415, 1468, 1390, 1380, 1432, 1240, 1195, 1225,\n",
       "        1188, 1252, 1315, 1245, 1430, 1279, 1245, 1309, 1412, 1120, 1220,\n",
       "        1280, 1440, 1370, 1192, 1230, 1346, 1290, 1165, 1240, 1132, 1242,\n",
       "        1270, 1218, 1430, 1588, 1320, 1290, 1260, 1425, 1226, 1360, 1620,\n",
       "        1310, 1250, 1295, 1290, 1290, 1275, 1250, 1270, 1362, 1300, 1173,\n",
       "        1256, 1440, 1180, 1306, 1350, 1125, 1165, 1312, 1300, 1270, 1335,\n",
       "        1450, 1310, 1027, 1235, 1260, 1165, 1080, 1127, 1270, 1252, 1200,\n",
       "        1290, 1334, 1380, 1140, 1243, 1340, 1168, 1322, 1249, 1321, 1192,\n",
       "        1373, 1170, 1265, 1235, 1302, 1241, 1078, 1520, 1460, 1075, 1280,\n",
       "        1180, 1250, 1190, 1374, 1306, 1202, 1240, 1316, 1280, 1350, 1180,\n",
       "        1210, 1127, 1324, 1210, 1290, 1100, 1280, 1175, 1160, 1205, 1163,\n",
       "        1022, 1243, 1350, 1237, 1204, 1090, 1355, 1250, 1076, 1120, 1220,\n",
       "        1240, 1220, 1095, 1235, 1105, 1405, 1150, 1305, 1220, 1296, 1175,\n",
       "         955, 1070, 1320, 1060, 1130, 1250, 1225, 1180, 1178, 1142, 1130,\n",
       "        1185, 1012, 1280, 1103, 1408, 1300, 1246, 1380, 1350, 1060, 1350,\n",
       "        1220, 1110, 1215, 1104, 1170, 1120], dtype=int64))"
      ]
     },
     "execution_count": 7,
     "metadata": {},
     "output_type": "execute_result"
    }
   ],
   "source": [
    "x = df['Head Size'].values\n",
    "y = df['Brain Weight'].values\n",
    "x,y"
   ]
  },
  {
   "cell_type": "code",
   "execution_count": 8,
   "id": "f0f1da40",
   "metadata": {},
   "outputs": [],
   "source": [
    "def slope(x,y):\n",
    "    xm = np.mean(x)\n",
    "    ym = np.mean(y)\n",
    "    n = len(x)\n",
    "    num = 0\n",
    "    den = 0\n",
    "    for i in range(n):\n",
    "        num += (x[i] - xm)*(y[i]-ym)\n",
    "        den += (x[i] - xm)**2\n",
    "        m = num/den\n",
    "        b = ym - (m*xm)\n",
    "    return f\"the slope is {m} and intercept is {b}\""
   ]
  },
  {
   "cell_type": "code",
   "execution_count": 5,
   "id": "3c515cae",
   "metadata": {},
   "outputs": [
    {
     "data": {
      "text/plain": [
       "'the slope is 0.26342933948939945 and intercept is 325.57342104944223'"
      ]
     },
     "execution_count": 5,
     "metadata": {},
     "output_type": "execute_result"
    }
   ],
   "source": [
    "slope(x,y)"
   ]
  },
  {
   "cell_type": "code",
   "execution_count": 18,
   "id": "6af381a3",
   "metadata": {},
   "outputs": [],
   "source": [
    "def pred(br_size):\n",
    "    m = 0.2634\n",
    "    b = 325.57\n",
    "    y_pred = m*br_size + b\n",
    "    y_pred = np.round(y_pred,2)\n",
    "    return f\"The predicted brain weight is {y_pred} gms\""
   ]
  },
  {
   "cell_type": "code",
   "execution_count": 19,
   "id": "a19b88bf",
   "metadata": {},
   "outputs": [
    {
     "data": {
      "text/plain": [
       "'The predicted brain weight is 1218.76 gms'"
      ]
     },
     "execution_count": 19,
     "metadata": {},
     "output_type": "execute_result"
    }
   ],
   "source": [
    "br_size = 3391\n",
    "pred(br_size)"
   ]
  },
  {
   "cell_type": "markdown",
   "id": "41950716",
   "metadata": {},
   "source": [
    "## <font color = blue><left> Ordinary Least Square Linear Regression with OOPs"
   ]
  },
  {
   "cell_type": "code",
   "execution_count": 9,
   "id": "13aba4bc",
   "metadata": {},
   "outputs": [],
   "source": [
    "class LinearRegression:\n",
    "    def __init__(self, x , y):\n",
    "        self.x = x\n",
    "        self.y = y\n",
    "        self.m = 0\n",
    "        self.c = 0\n",
    "        self.n = len(x)\n",
    "        \n",
    "    def calc(self):\n",
    "        xm = np.mean(x)\n",
    "        ym = np.mean(y)\n",
    "        num=0 \n",
    "        den = 0\n",
    "        \n",
    "        for i in range(self.n):\n",
    "            num += (self.x[i] - xm)*(self.y[i]-ym)\n",
    "            den += (self.x[i] - xm)**2\n",
    "            self.m = num/den\n",
    "            self.b = ym - (self.m*xm)\n",
    "            \n",
    "    def predict(self , br_size):\n",
    "        y_pred = self.m * br_size + self.b \n",
    "        y_pred = np.round(y_pred,2)\n",
    "        return y_pred"
   ]
  },
  {
   "cell_type": "code",
   "execution_count": 10,
   "id": "eddfcfeb",
   "metadata": {},
   "outputs": [
    {
     "data": {
      "text/plain": [
       "1218.86"
      ]
     },
     "execution_count": 10,
     "metadata": {},
     "output_type": "execute_result"
    }
   ],
   "source": [
    "# Predictions with LinearRegression Object\n",
    "\n",
    "reg = LinearRegression(x,y)\n",
    "reg.calc()\n",
    "reg.predict(3391)"
   ]
  },
  {
   "cell_type": "code",
   "execution_count": null,
   "id": "e6bc40e7",
   "metadata": {},
   "outputs": [],
   "source": []
  }
 ],
 "metadata": {
  "kernelspec": {
   "display_name": "Python 3 (ipykernel)",
   "language": "python",
   "name": "python3"
  },
  "language_info": {
   "codemirror_mode": {
    "name": "ipython",
    "version": 3
   },
   "file_extension": ".py",
   "mimetype": "text/x-python",
   "name": "python",
   "nbconvert_exporter": "python",
   "pygments_lexer": "ipython3",
   "version": "3.9.7"
  }
 },
 "nbformat": 4,
 "nbformat_minor": 5
}
